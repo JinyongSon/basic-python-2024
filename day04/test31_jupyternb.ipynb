{
 "cells": [
  {
   "cell_type": "markdown",
   "metadata": {},
   "source": [
    "# 주피터 노트북\n",
    "## 주피터 노트북 개요\n",
    "주피터 노트북(Jupyter Notebook)에 대한 학습\n",
    "\n",
    "### Jupyter Notebook 이란?\n",
    "- 2015년 주피터 재단에서 만든 오픈소스 과학연구 목적 개발 플랫폼\n",
    "- https://jupyter.org/"
   ]
  },
  {
   "cell_type": "markdown",
   "metadata": {},
   "source": [
    "### Jupyter Notebook 시작\n",
    "- VS Code > 보기 > 명령 팔레트...(Ctrl + Shift + P) 시작\n",
    "- Create : 새 주피터 노트북 클릭\n",
    "- Untitled-1.ipynb를 저장"
   ]
  },
  {
   "cell_type": "markdown",
   "metadata": {},
   "source": [
    "### 주피터 노트북 영역\n",
    "- 코드 : 파이썬 등 소스코드 작성, 실행 공간\n",
    "- 마크다운 : 마크다운 설명 작성 "
   ]
  },
  {
   "cell_type": "markdown",
   "metadata": {},
   "source": [
    "#### 출력\n",
    "- Ctrl + F5 실행은 안함(터미널 사용하지 않음``)\n",
    "- print()함수는 옵션(단 노트북)"
   ]
  },
  {
   "cell_type": "markdown",
   "metadata": {},
   "source": [
    "print('Hello, Jupyter!)"
   ]
  },
  {
   "cell_type": "markdown",
   "metadata": {},
   "source": [
    "a = 10\n",
    "print(a)"
   ]
  },
  {
   "cell_type": "markdown",
   "metadata": {},
   "source": [
    "### 주피터 노트북 단축키\n",
    "- 셀 선택모드\n",
    "    - b : 아래에 새로운 셀 추가\n",
    "    - m : 마크다운 셀로 변경\n",
    "    - y : 코드 셀로 변경\n",
    "    - Shift + L : TPFDP FKDLSQJSGH XHRMF\n",
    "\n",
    "- 코드 입력모드\n",
    "    - Ctrl + Alt + Enter : 마크다운셀은 종료, 코드셀 실행\n",
    "    - Shift + Enter : 현재셀 닫고, 아래 새 셀을 생성\n",
    "    - Ctrl + / : 주석처리"
   ]
  }
 ],
 "metadata": {
  "kernelspec": {
   "display_name": "Python 3",
   "language": "python",
   "name": "python3"
  },
  "language_info": {
   "name": "python",
   "version": "3.11.5"
  }
 },
 "nbformat": 4,
 "nbformat_minor": 2
}
