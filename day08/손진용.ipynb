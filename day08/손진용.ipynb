{
 "cells": [
  {
   "cell_type": "markdown",
   "metadata": {},
   "source": [
    "## 1번 문제"
   ]
  },
  {
   "cell_type": "code",
   "execution_count": 19,
   "metadata": {},
   "outputs": [
    {
     "name": "stdout",
     "output_type": "stream",
     "text": [
      "78.53981633974483\n"
     ]
    }
   ],
   "source": [
    "import math\n",
    "\n",
    "r = float(input('반지름 값을 입력하세요 > '))\n",
    "p = math.pi\n",
    "\n",
    "print(f'{math.pow(r, 2) * p}')"
   ]
  },
  {
   "cell_type": "markdown",
   "metadata": {},
   "source": [
    "## 2번 문제"
   ]
  },
  {
   "cell_type": "code",
   "execution_count": 21,
   "metadata": {},
   "outputs": [
    {
     "name": "stdout",
     "output_type": "stream",
     "text": [
      "수성\n"
     ]
    }
   ],
   "source": [
    "solar = input('행성의 영어 이름을 입력하세요 >')\n",
    "if solar == 'Mercury':\n",
    "    print('수성')\n",
    "elif solar == 'Venus':\n",
    "    print('금성')\n",
    "elif solar == 'Earth':\n",
    "    print('지구')\n",
    "elif solar == 'Mars':\n",
    "    print('화성')\n",
    "elif solar == 'Jupiter':\n",
    "    print('목성')\n",
    "elif solar == 'Saturn':\n",
    "    print('토성')\n",
    "elif solar == 'Uranus':\n",
    "    print('천왕성')\n",
    "elif solar == 'Neptune':\n",
    "    print('해왕성')"
   ]
  },
  {
   "cell_type": "markdown",
   "metadata": {},
   "source": [
    "## 3번 문제"
   ]
  },
  {
   "cell_type": "code",
   "execution_count": 75,
   "metadata": {},
   "outputs": [
    {
     "name": "stdout",
     "output_type": "stream",
     "text": [
      "I'm going to leave the door open = 7\n",
      "I'm GOING to LEAVE the DOOR open\n"
     ]
    }
   ],
   "source": [
    "eng = input('영어 문자열을 입력하세요 > ')\n",
    "engsp = eng.split(' ')\n",
    "print(f'{eng} = {len(engsp)}')\n",
    "for i in range(len(engsp)):\n",
    "    if i % 2 == 1:\n",
    "        engsp[i] = engsp[i].upper()\n",
    "        \n",
    "result = \" \".join(engsp)\n",
    "print(result)"
   ]
  },
  {
   "cell_type": "markdown",
   "metadata": {},
   "source": [
    "## 4번 문제"
   ]
  },
  {
   "cell_type": "code",
   "execution_count": 69,
   "metadata": {},
   "outputs": [
    {
     "name": "stdout",
     "output_type": "stream",
     "text": [
      "www.google.com\n"
     ]
    }
   ],
   "source": [
    "def get_url(x):\n",
    "    result = f'www.{x}.com'\n",
    "    return result\n",
    "\n",
    "eng = input('영문이름을 입력하세요 > ')\n",
    "url = get_url(eng)\n",
    "print(url)"
   ]
  },
  {
   "cell_type": "markdown",
   "metadata": {},
   "source": [
    "## 5번 문제"
   ]
  },
  {
   "cell_type": "code",
   "execution_count": 74,
   "metadata": {},
   "outputs": [
    {
     "name": "stdout",
     "output_type": "stream",
     "text": [
      "3 6 9 12 15 18 21 24 27 "
     ]
    }
   ],
   "source": [
    "number = int(input('구구단을 수행할 단번호를 입력하세요 > '))\n",
    "result = 0\n",
    "for i in range(1, 10):\n",
    "    result = i * number\n",
    "    print(result, end=' ')"
   ]
  }
 ],
 "metadata": {
  "kernelspec": {
   "display_name": "Python 3",
   "language": "python",
   "name": "python3"
  },
  "language_info": {
   "codemirror_mode": {
    "name": "ipython",
    "version": 3
   },
   "file_extension": ".py",
   "mimetype": "text/x-python",
   "name": "python",
   "nbconvert_exporter": "python",
   "pygments_lexer": "ipython3",
   "version": "3.11.5"
  }
 },
 "nbformat": 4,
 "nbformat_minor": 2
}
